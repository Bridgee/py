{
 "cells": [
  {
   "cell_type": "markdown",
   "metadata": {},
   "source": [
    "# 多功能的 Requests\n",
    "获取网页的方式： 其实在加载网页的时候, 有几种类型, 而这几种类型就是你打开网页的关键. 最重要的类型 (method) 就是 get 和 post (当然还有其他的, 比如 head, delete). 刚接触网页构架的朋友可能又会觉得有点懵逼了. \n",
    "我们就来说两个重要的, get, post, 95% 的时间, 你都是在使用这两个来请求一个网页.\n",
    "\n",
    "#### post\n",
    "* 账号登录\n",
    "* 搜索内容\n",
    "* 上传图片\n",
    "* 上传文件\n",
    "* 往服务器传数据\n",
    "\n",
    "#### get\n",
    "* 正常打开网页\n",
    "* 不往服务器传数据"
   ]
  },
  {
   "cell_type": "markdown",
   "metadata": {},
   "source": [
    "## Request Get"
   ]
  },
  {
   "cell_type": "code",
   "execution_count": 19,
   "metadata": {},
   "outputs": [
    {
     "name": "stdout",
     "output_type": "stream",
     "text": [
      "http://www.baidu.com/s?wd=%E8%8E%AB%E7%83%A6Python\n"
     ]
    },
    {
     "data": {
      "text/plain": [
       "True"
      ]
     },
     "execution_count": 19,
     "metadata": {},
     "output_type": "execute_result"
    }
   ],
   "source": [
    "import requests\n",
    "\n",
    "param = {\"wd\": \"莫烦Python\"}  # 搜索的信息\n",
    "r = requests.get('http://www.baidu.com/s', params=param)\n",
    "print(r.url)\n",
    "\n",
    "\n",
    "import webbrowser\n",
    "webbrowser.open(r.url)\n",
    "# 浏览器自动打开链接"
   ]
  },
  {
   "cell_type": "markdown",
   "metadata": {},
   "source": [
    "## Request Post\n",
    "##### http://pythonscraping.com/pages/files/form.html"
   ]
  },
  {
   "cell_type": "code",
   "execution_count": 15,
   "metadata": {},
   "outputs": [
    {
     "name": "stdout",
     "output_type": "stream",
     "text": [
      "Hello there, Zhouqiao Zhao!\n"
     ]
    }
   ],
   "source": [
    "data = {'firstname': 'Zhouqiao', 'lastname': 'Zhao'}\n",
    "r = requests.post('http://pythonscraping.com/files/processing.php', data=data)\n",
    "print(r.text)"
   ]
  },
  {
   "cell_type": "markdown",
   "metadata": {},
   "source": [
    "## Upload Image\n",
    "##### http://pythonscraping.com/files/form2.html"
   ]
  },
  {
   "cell_type": "code",
   "execution_count": 16,
   "metadata": {},
   "outputs": [
    {
     "name": "stdout",
     "output_type": "stream",
     "text": [
      "The file welcome.gif has been uploaded.\n"
     ]
    }
   ],
   "source": [
    "file = {'uploadFile': open('./welcome.gif', 'rb')}\n",
    "r = requests.post('http://pythonscraping.com/files/processing2.php', files=file)\n",
    "print(r.text)"
   ]
  },
  {
   "cell_type": "markdown",
   "metadata": {},
   "source": [
    "# Login\n",
    "##### http://pythonscraping.com/pages/cookies/login.html"
   ]
  },
  {
   "cell_type": "code",
   "execution_count": 17,
   "metadata": {},
   "outputs": [
    {
     "name": "stdout",
     "output_type": "stream",
     "text": [
      "{}\n",
      "<!DOCTYPE html PUBLIC \"-//W3C//DTD XHTML+RDFa 1.0//EN\"\n",
      "  \"http://www.w3.org/MarkUp/DTD/xhtml-rdfa-1.dtd\">\n",
      "<html xmlns=\"http://www.w3.org/1999/xhtml\" xml:lang=\"en\" version=\"XHTML+RDFa 1.0\" dir=\"ltr\"\n",
      "  xmlns:content=\"http://purl.org/rss/1.0/modules/content/\"\n",
      "  xmlns:dc=\"http://purl.org/dc/terms/\"\n",
      "  xmlns:foaf=\"http://xmlns.com/foaf/0.1/\"\n",
      "  xmlns:og=\"http://ogp.me/ns#\"\n",
      "  xmlns:rdfs=\"http://www.w3.org/2000/01/rdf-schema#\"\n",
      "  xmlns:sioc=\"http://rdfs.org/sioc/ns#\"\n",
      "  xmlns:sioct=\"http://rdfs.org/sioc/types#\"\n",
      "  xmlns:skos=\"http://www.w3.org/2004/02/skos/core#\"\n",
      "  xmlns:xsd=\"http://www.w3.org/2001/XMLSchema#\">\n",
      "\n",
      "<head profile=\"http://www.w3.org/1999/xhtml/vocab\">\n",
      "  <meta charset=\"utf-8\" />\n",
      "<link rel=\"shortcut icon\" href=\"http://pythonscraping.com/misc/favicon.ico\" type=\"image/vnd.microsoft.icon\" />\n",
      "<meta name=\"viewport\" content=\"width=device-width, initial-scale=1\" />\n",
      "<meta name=\"MobileOptimized\" content=\"width\" />\n",
      "<meta name=\"Generator\" content=\"Drupal 7 (http://drupal.org)\" />\n",
      "<meta name=\"HandheldFriendly\" content=\"true\" />\n",
      "  <title>Page not found | Web Scraping with Python</title>\n",
      "  <style type=\"text/css\" media=\"all\">\n",
      "@import url(\"http://pythonscraping.com/modules/system/system.base.css?os2esm\");\n",
      "@import url(\"http://pythonscraping.com/modules/system/system.menus.css?os2esm\");\n",
      "@import url(\"http://pythonscraping.com/modules/system/system.messages.css?os2esm\");\n",
      "@import url(\"http://pythonscraping.com/modules/system/system.theme.css?os2esm\");\n",
      "</style>\n",
      "<style type=\"text/css\" media=\"all\">\n",
      "@import url(\"http://pythonscraping.com/modules/comment/comment.css?os2esm\");\n",
      "@import url(\"http://pythonscraping.com/modules/field/theme/field.css?os2esm\");\n",
      "@import url(\"http://pythonscraping.com/modules/node/node.css?os2esm\");\n",
      "@import url(\"http://pythonscraping.com/modules/search/search.css?os2esm\");\n",
      "@import url(\"http://pythonscraping.com/modules/user/user.css?os2esm\");\n",
      "@import url(\"http://pythonscraping.com/sites/all/modules/views/css/views.css?os2esm\");\n",
      "@import url(\"http://pythonscraping.com/sites/all/modules/ckeditor/css/ckeditor.css?os2esm\");\n",
      "</style>\n",
      "<style type=\"text/css\" media=\"all\">\n",
      "@import url(\"http://pythonscraping.com/sites/all/modules/ctools/css/ctools.css?os2esm\");\n",
      "</style>\n",
      "<style type=\"text/css\" media=\"all\">\n",
      "@import url(\"http://pythonscraping.com/sites/all/themes/skeletontheme/css/skeleton.css?os2esm\");\n",
      "@import url(\"http://pythonscraping.com/sites/all/themes/skeletontheme/css/style.css?os2esm\");\n",
      "@import url(\"http://pythonscraping.com/sites/all/themes/skeletontheme/css/buttons.css?os2esm\");\n",
      "@import url(\"http://pythonscraping.com/sites/all/themes/skeletontheme/css/layout.css?os2esm\");\n",
      "@import url(\"http://pythonscraping.com/sites/all/themes/skeletontheme/color/colors.css?os2esm\");\n",
      "</style>\n",
      "  <script type=\"text/javascript\" src=\"http://pythonscraping.com/misc/jquery.js?v=1.4.4\"></script>\n",
      "<script type=\"text/javascript\" src=\"http://pythonscraping.com/misc/jquery.once.js?v=1.2\"></script>\n",
      "<script type=\"text/javascript\" src=\"http://pythonscraping.com/misc/drupal.js?os2esm\"></script>\n",
      "<script type=\"text/javascript\" src=\"http://pythonscraping.com/sites/all/themes/skeletontheme/js/jquery.mobilemenu.js?os2esm\"></script>\n",
      "<script type=\"text/javascript\">\n",
      "<!--//--><![CDATA[//><!--\n",
      "jQuery(document).ready(function($) { \n",
      "\t\n",
      "\t$(\"#navigation .content > ul\").mobileMenu({\n",
      "\t\tprependTo: \"#navigation\",\n",
      "\t\tcombine: false,\n",
      "        switchWidth: 760,\n",
      "        topOptionText: Drupal.settings.skeletontheme['topoptiontext']\n",
      "\t});\n",
      "\t\n",
      "\t});\n",
      "//--><!]]>\n",
      "</script>\n",
      "<script type=\"text/javascript\" src=\"http://pythonscraping.com/sites/all/modules/google_analytics/googleanalytics.js?os2esm\"></script>\n",
      "<script type=\"text/javascript\">\n",
      "<!--//--><![CDATA[//><!--\n",
      "(function(i,s,o,g,r,a,m){i[\"GoogleAnalyticsObject\"]=r;i[r]=i[r]||function(){(i[r].q=i[r].q||[]).push(arguments)},i[r].l=1*new Date();a=s.createElement(o),m=s.getElementsByTagName(o)[0];a.async=1;a.src=g;m.parentNode.insertBefore(a,m)})(window,document,\"script\",\"//www.google-analytics.com/analytics.js\",\"ga\");ga(\"create\", \"UA-57871098-1\", {\"cookieDomain\":\"auto\"});ga(\"set\", \"anonymizeIp\", true);ga(\"set\", \"page\", \"/404.html?page=\" + document.location.pathname + document.location.search + \"&from=\" + document.referrer);ga(\"send\", \"pageview\");\n",
      "//--><!]]>\n",
      "</script>\n",
      "<script type=\"text/javascript\">\n",
      "<!--//--><![CDATA[//><!--\n",
      "jQuery.extend(Drupal.settings, {\"basePath\":\"\\/\",\"pathPrefix\":\"\",\"skeletontheme\":{\"topoptiontext\":\"Select a page\"},\"ajaxPageState\":{\"theme\":\"skeletontheme\",\"theme_token\":\"C1k1ohHjFJgmm5GvpmqaCOwghDOEmPxyS68WizJ-HiU\",\"js\":{\"misc\\/jquery.js\":1,\"misc\\/jquery.once.js\":1,\"misc\\/drupal.js\":1,\"sites\\/all\\/themes\\/skeletontheme\\/js\\/jquery.mobilemenu.js\":1,\"0\":1,\"sites\\/all\\/modules\\/google_analytics\\/googleanalytics.js\":1,\"1\":1},\"css\":{\"modules\\/system\\/system.base.css\":1,\"modules\\/system\\/system.menus.css\":1,\"modules\\/system\\/system.messages.css\":1,\"modules\\/system\\/system.theme.css\":1,\"modules\\/comment\\/comment.css\":1,\"modules\\/field\\/theme\\/field.css\":1,\"modules\\/node\\/node.css\":1,\"modules\\/search\\/search.css\":1,\"modules\\/user\\/user.css\":1,\"sites\\/all\\/modules\\/views\\/css\\/views.css\":1,\"sites\\/all\\/modules\\/ckeditor\\/css\\/ckeditor.css\":1,\"sites\\/all\\/modules\\/ctools\\/css\\/ctools.css\":1,\"sites\\/all\\/themes\\/skeletontheme\\/css\\/skeleton.css\":1,\"sites\\/all\\/themes\\/skeletontheme\\/css\\/style.css\":1,\"sites\\/all\\/themes\\/skeletontheme\\/css\\/buttons.css\":1,\"sites\\/all\\/themes\\/skeletontheme\\/css\\/layout.css\":1,\"sites\\/all\\/themes\\/skeletontheme\\/color\\/colors.css\":1}},\"googleanalytics\":{\"trackOutbound\":1,\"trackMailto\":1,\"trackDownload\":1,\"trackDownloadExtensions\":\"7z|aac|arc|arj|asf|asx|avi|bin|csv|doc(x|m)?|dot(x|m)?|exe|flv|gif|gz|gzip|hqx|jar|jpe?g|js|mp(2|3|4|e?g)|mov(ie)?|msi|msp|pdf|phps|png|ppt(x|m)?|pot(x|m)?|pps(x|m)?|ppam|sld(x|m)?|thmx|qtm?|ra(m|r)?|sea|sit|tar|tgz|torrent|txt|wav|wma|wmv|wpd|xls(x|m|b)?|xlt(x|m)|xlam|xml|z|zip\"}});\n",
      "//--><!]]>\n",
      "</script>\n",
      "</head>\n",
      "<body class=\"html not-front not-logged-in one-sidebar sidebar-first page-pages page-pages-cookies page-pages-cookies-profilephp\" >\n",
      "  <div id=\"skip-link\">\n",
      "    <a href=\"#main-content\" class=\"element-invisible element-focusable\">Skip to main content</a>\n",
      "  </div>\n",
      "    <div id=\"wrap\">\n",
      "    <div class=\"container\">\n",
      "        \n",
      "                \n",
      "        <div class=\"clear\"></div>\n",
      "        \n",
      "        <!-- #header -->\n",
      "                <div id=\"header\" class=\"sixteen columns clearfix\">   \n",
      "                \n",
      "            <div class=\"inner\">\n",
      "    \n",
      "                                  <a href=\"/\" title=\"Home\" rel=\"home\" id=\"logo\">\n",
      "                    <img src=\"http://pythonscraping.com/sites/default/files/lrg_0.jpg\" alt=\"Home\" />\n",
      "                  </a>\n",
      "                                \n",
      "                                <div id=\"name-and-slogan\">\n",
      "                \n",
      "                                        <div id=\"site-name\">\n",
      "                    <a href=\"/\" title=\"Home\" rel=\"home\">Web Scraping with Python</a>\n",
      "                    </div>\n",
      "                                        \n",
      "                                    \n",
      "                </div>\n",
      "                            </div>\n",
      "        </div><!-- /#header -->\n",
      "        \n",
      "                \n",
      "        <div class=\"clear\"></div>\n",
      "        \n",
      "        <!-- #navigation -->\n",
      "        <div id=\"navigation\" class=\"sixteen columns clearfix\">\n",
      "        \n",
      "            <div class=\"menu-header\">\n",
      "                            \t\t\t\t<div class=\"content\">\n",
      "\t\t\t\t                </div>\n",
      "                        </div>\n",
      "            \n",
      "        </div><!-- /#navigation -->\n",
      "        \n",
      "                <!-- #sidebar-first -->\n",
      "        <div id=\"sidebar-first\" class=\"five columns\">\n",
      "              <div class=\"region region-sidebar-first\">\n",
      "    <div id=\"block-block-1\" class=\"block block-block\">\n",
      "\n",
      "    <h2>Buy WSwP Directly from O&#039;Reilly:</h2>\n",
      "  \n",
      "  <div class=\"content\">\n",
      "    <iframe src=\"http://www.oreilly.com/authors/widgets/669.html\" height=\"500px\" width=\"200px\" scrolling=\"no\" frameborder=\"0\"></iframe>  </div>\n",
      "</div>\n",
      "  </div>\n",
      "        </div><!-- /#sidebar-first -->\n",
      "                \n",
      "                <div id=\"content\" class=\"eleven columns\">\n",
      "\t\t        \n",
      "                    \n",
      "                        \n",
      "            <div id=\"main\">\n",
      "            \n",
      "                                \n",
      "                                \n",
      "                                <h1 class=\"title\" id=\"page-title\">\n",
      "                  Page not found                </h1>\n",
      "                                \n",
      "                                \n",
      "                                <div class=\"tabs\">\n",
      "                                  </div>\n",
      "                                \n",
      "                                \n",
      "                                \n",
      "                  <div class=\"region region-content\">\n",
      "    <div id=\"block-system-main\" class=\"block block-system\">\n",
      "\n",
      "    \n",
      "  <div class=\"content\">\n",
      "    The requested page \"/pages/cookies/profile.php\" could not be found.  </div>\n",
      "</div>\n",
      "  </div>\n",
      "                                \n",
      "            </div>\n",
      "        \n",
      "        </div><!-- /#content -->\n",
      "        \n",
      "                \n",
      "        <div class=\"clear\"></div>\n",
      "        \n",
      "                \n",
      "\t</div>\n",
      "        \n",
      "\t<div id=\"footer\" >\n",
      "        <div class=\"container\">\n",
      "        \t<div class=\"sixteen columns clearfix\">\n",
      "        \n",
      "                <div class=\"one_third\">\n",
      "                                </div>\n",
      "                \n",
      "                <div class=\"one_third\">\n",
      "                                </div>\n",
      "                \n",
      "                <div class=\"one_third last\">\n",
      "                                </div>\n",
      "        \n",
      "                <div class=\"clear\"></div>\n",
      "                \n",
      "                                \n",
      "                <div class=\"clear\"></div>\n",
      "                \n",
      "                <div id=\"credits\">\n",
      "                2018                                 Web Scraping with Python<br/>\n",
      "                                &copy; Ryan Mitchell, All Rights Reserved. For questions about reproduction or use of any material on this site, please contact ryan.e.mitchell@gmail.com\n",
      "                </div>\n",
      "        \t</div>\n",
      "        </div>\n",
      "    </div>\n",
      "    \n",
      "</div> <!-- /#wrap -->  </body>\n",
      "</html>\n",
      "\n"
     ]
    }
   ],
   "source": [
    "payload = {'username': 'Zhouqiao', 'password': 'password'}\n",
    "r = requests.post('http://pythonscraping.com/pages/cookies/welcome.php', data=payload)\n",
    "print(r.cookies.get_dict())\n",
    "\n",
    "# {'username': 'Morvan', 'loggedin': '1'}\n",
    "\n",
    "\n",
    "r = requests.get('http://pythonscraping.com/pages/cookies/profile.php', cookies=r.cookies)\n",
    "print(r.text)\n",
    "\n",
    "# Hey Morvan! Looks like you're still logged into the site!"
   ]
  },
  {
   "cell_type": "code",
   "execution_count": 18,
   "metadata": {
    "scrolled": true
   },
   "outputs": [
    {
     "name": "stdout",
     "output_type": "stream",
     "text": [
      "{}\n",
      "<!DOCTYPE html PUBLIC \"-//W3C//DTD XHTML+RDFa 1.0//EN\"\n",
      "  \"http://www.w3.org/MarkUp/DTD/xhtml-rdfa-1.dtd\">\n",
      "<html xmlns=\"http://www.w3.org/1999/xhtml\" xml:lang=\"en\" version=\"XHTML+RDFa 1.0\" dir=\"ltr\"\n",
      "  xmlns:content=\"http://purl.org/rss/1.0/modules/content/\"\n",
      "  xmlns:dc=\"http://purl.org/dc/terms/\"\n",
      "  xmlns:foaf=\"http://xmlns.com/foaf/0.1/\"\n",
      "  xmlns:og=\"http://ogp.me/ns#\"\n",
      "  xmlns:rdfs=\"http://www.w3.org/2000/01/rdf-schema#\"\n",
      "  xmlns:sioc=\"http://rdfs.org/sioc/ns#\"\n",
      "  xmlns:sioct=\"http://rdfs.org/sioc/types#\"\n",
      "  xmlns:skos=\"http://www.w3.org/2004/02/skos/core#\"\n",
      "  xmlns:xsd=\"http://www.w3.org/2001/XMLSchema#\">\n",
      "\n",
      "<head profile=\"http://www.w3.org/1999/xhtml/vocab\">\n",
      "  <meta charset=\"utf-8\" />\n",
      "<link rel=\"shortcut icon\" href=\"http://pythonscraping.com/misc/favicon.ico\" type=\"image/vnd.microsoft.icon\" />\n",
      "<meta name=\"viewport\" content=\"width=device-width, initial-scale=1\" />\n",
      "<meta name=\"MobileOptimized\" content=\"width\" />\n",
      "<meta name=\"Generator\" content=\"Drupal 7 (http://drupal.org)\" />\n",
      "<meta name=\"HandheldFriendly\" content=\"true\" />\n",
      "  <title>Page not found | Web Scraping with Python</title>\n",
      "  <style type=\"text/css\" media=\"all\">\n",
      "@import url(\"http://pythonscraping.com/modules/system/system.base.css?os2esm\");\n",
      "@import url(\"http://pythonscraping.com/modules/system/system.menus.css?os2esm\");\n",
      "@import url(\"http://pythonscraping.com/modules/system/system.messages.css?os2esm\");\n",
      "@import url(\"http://pythonscraping.com/modules/system/system.theme.css?os2esm\");\n",
      "</style>\n",
      "<style type=\"text/css\" media=\"all\">\n",
      "@import url(\"http://pythonscraping.com/modules/comment/comment.css?os2esm\");\n",
      "@import url(\"http://pythonscraping.com/modules/field/theme/field.css?os2esm\");\n",
      "@import url(\"http://pythonscraping.com/modules/node/node.css?os2esm\");\n",
      "@import url(\"http://pythonscraping.com/modules/search/search.css?os2esm\");\n",
      "@import url(\"http://pythonscraping.com/modules/user/user.css?os2esm\");\n",
      "@import url(\"http://pythonscraping.com/sites/all/modules/views/css/views.css?os2esm\");\n",
      "@import url(\"http://pythonscraping.com/sites/all/modules/ckeditor/css/ckeditor.css?os2esm\");\n",
      "</style>\n",
      "<style type=\"text/css\" media=\"all\">\n",
      "@import url(\"http://pythonscraping.com/sites/all/modules/ctools/css/ctools.css?os2esm\");\n",
      "</style>\n",
      "<style type=\"text/css\" media=\"all\">\n",
      "@import url(\"http://pythonscraping.com/sites/all/themes/skeletontheme/css/skeleton.css?os2esm\");\n",
      "@import url(\"http://pythonscraping.com/sites/all/themes/skeletontheme/css/style.css?os2esm\");\n",
      "@import url(\"http://pythonscraping.com/sites/all/themes/skeletontheme/css/buttons.css?os2esm\");\n",
      "@import url(\"http://pythonscraping.com/sites/all/themes/skeletontheme/css/layout.css?os2esm\");\n",
      "@import url(\"http://pythonscraping.com/sites/all/themes/skeletontheme/color/colors.css?os2esm\");\n",
      "</style>\n",
      "  <script type=\"text/javascript\" src=\"http://pythonscraping.com/misc/jquery.js?v=1.4.4\"></script>\n",
      "<script type=\"text/javascript\" src=\"http://pythonscraping.com/misc/jquery.once.js?v=1.2\"></script>\n",
      "<script type=\"text/javascript\" src=\"http://pythonscraping.com/misc/drupal.js?os2esm\"></script>\n",
      "<script type=\"text/javascript\" src=\"http://pythonscraping.com/sites/all/themes/skeletontheme/js/jquery.mobilemenu.js?os2esm\"></script>\n",
      "<script type=\"text/javascript\">\n",
      "<!--//--><![CDATA[//><!--\n",
      "jQuery(document).ready(function($) { \n",
      "\t\n",
      "\t$(\"#navigation .content > ul\").mobileMenu({\n",
      "\t\tprependTo: \"#navigation\",\n",
      "\t\tcombine: false,\n",
      "        switchWidth: 760,\n",
      "        topOptionText: Drupal.settings.skeletontheme['topoptiontext']\n",
      "\t});\n",
      "\t\n",
      "\t});\n",
      "//--><!]]>\n",
      "</script>\n",
      "<script type=\"text/javascript\" src=\"http://pythonscraping.com/sites/all/modules/google_analytics/googleanalytics.js?os2esm\"></script>\n",
      "<script type=\"text/javascript\">\n",
      "<!--//--><![CDATA[//><!--\n",
      "(function(i,s,o,g,r,a,m){i[\"GoogleAnalyticsObject\"]=r;i[r]=i[r]||function(){(i[r].q=i[r].q||[]).push(arguments)},i[r].l=1*new Date();a=s.createElement(o),m=s.getElementsByTagName(o)[0];a.async=1;a.src=g;m.parentNode.insertBefore(a,m)})(window,document,\"script\",\"//www.google-analytics.com/analytics.js\",\"ga\");ga(\"create\", \"UA-57871098-1\", {\"cookieDomain\":\"auto\"});ga(\"set\", \"anonymizeIp\", true);ga(\"set\", \"page\", \"/404.html?page=\" + document.location.pathname + document.location.search + \"&from=\" + document.referrer);ga(\"send\", \"pageview\");\n",
      "//--><!]]>\n",
      "</script>\n",
      "<script type=\"text/javascript\">\n",
      "<!--//--><![CDATA[//><!--\n",
      "jQuery.extend(Drupal.settings, {\"basePath\":\"\\/\",\"pathPrefix\":\"\",\"skeletontheme\":{\"topoptiontext\":\"Select a page\"},\"ajaxPageState\":{\"theme\":\"skeletontheme\",\"theme_token\":\"tN0r2yV4nwSf_r2ZNeusHgqjY-SG40qOy9lz74bonlA\",\"js\":{\"misc\\/jquery.js\":1,\"misc\\/jquery.once.js\":1,\"misc\\/drupal.js\":1,\"sites\\/all\\/themes\\/skeletontheme\\/js\\/jquery.mobilemenu.js\":1,\"0\":1,\"sites\\/all\\/modules\\/google_analytics\\/googleanalytics.js\":1,\"1\":1},\"css\":{\"modules\\/system\\/system.base.css\":1,\"modules\\/system\\/system.menus.css\":1,\"modules\\/system\\/system.messages.css\":1,\"modules\\/system\\/system.theme.css\":1,\"modules\\/comment\\/comment.css\":1,\"modules\\/field\\/theme\\/field.css\":1,\"modules\\/node\\/node.css\":1,\"modules\\/search\\/search.css\":1,\"modules\\/user\\/user.css\":1,\"sites\\/all\\/modules\\/views\\/css\\/views.css\":1,\"sites\\/all\\/modules\\/ckeditor\\/css\\/ckeditor.css\":1,\"sites\\/all\\/modules\\/ctools\\/css\\/ctools.css\":1,\"sites\\/all\\/themes\\/skeletontheme\\/css\\/skeleton.css\":1,\"sites\\/all\\/themes\\/skeletontheme\\/css\\/style.css\":1,\"sites\\/all\\/themes\\/skeletontheme\\/css\\/buttons.css\":1,\"sites\\/all\\/themes\\/skeletontheme\\/css\\/layout.css\":1,\"sites\\/all\\/themes\\/skeletontheme\\/color\\/colors.css\":1}},\"googleanalytics\":{\"trackOutbound\":1,\"trackMailto\":1,\"trackDownload\":1,\"trackDownloadExtensions\":\"7z|aac|arc|arj|asf|asx|avi|bin|csv|doc(x|m)?|dot(x|m)?|exe|flv|gif|gz|gzip|hqx|jar|jpe?g|js|mp(2|3|4|e?g)|mov(ie)?|msi|msp|pdf|phps|png|ppt(x|m)?|pot(x|m)?|pps(x|m)?|ppam|sld(x|m)?|thmx|qtm?|ra(m|r)?|sea|sit|tar|tgz|torrent|txt|wav|wma|wmv|wpd|xls(x|m|b)?|xlt(x|m)|xlam|xml|z|zip\"}});\n",
      "//--><!]]>\n",
      "</script>\n",
      "</head>\n",
      "<body class=\"html not-front not-logged-in one-sidebar sidebar-first page-pages page-pages-cookies page-pages-cookies-profilephp\" >\n",
      "  <div id=\"skip-link\">\n",
      "    <a href=\"#main-content\" class=\"element-invisible element-focusable\">Skip to main content</a>\n",
      "  </div>\n",
      "    <div id=\"wrap\">\n",
      "    <div class=\"container\">\n",
      "        \n",
      "                \n",
      "        <div class=\"clear\"></div>\n",
      "        \n",
      "        <!-- #header -->\n",
      "                <div id=\"header\" class=\"sixteen columns clearfix\">   \n",
      "                \n",
      "            <div class=\"inner\">\n",
      "    \n",
      "                                  <a href=\"/\" title=\"Home\" rel=\"home\" id=\"logo\">\n",
      "                    <img src=\"http://pythonscraping.com/sites/default/files/lrg_0.jpg\" alt=\"Home\" />\n",
      "                  </a>\n",
      "                                \n",
      "                                <div id=\"name-and-slogan\">\n",
      "                \n",
      "                                        <div id=\"site-name\">\n",
      "                    <a href=\"/\" title=\"Home\" rel=\"home\">Web Scraping with Python</a>\n",
      "                    </div>\n",
      "                                        \n",
      "                                    \n",
      "                </div>\n",
      "                            </div>\n",
      "        </div><!-- /#header -->\n",
      "        \n",
      "                \n",
      "        <div class=\"clear\"></div>\n",
      "        \n",
      "        <!-- #navigation -->\n",
      "        <div id=\"navigation\" class=\"sixteen columns clearfix\">\n",
      "        \n",
      "            <div class=\"menu-header\">\n",
      "                            \t\t\t\t<div class=\"content\">\n",
      "\t\t\t\t                </div>\n",
      "                        </div>\n",
      "            \n",
      "        </div><!-- /#navigation -->\n",
      "        \n",
      "                <!-- #sidebar-first -->\n",
      "        <div id=\"sidebar-first\" class=\"five columns\">\n",
      "              <div class=\"region region-sidebar-first\">\n",
      "    <div id=\"block-block-1\" class=\"block block-block\">\n",
      "\n",
      "    <h2>Buy WSwP Directly from O&#039;Reilly:</h2>\n",
      "  \n",
      "  <div class=\"content\">\n",
      "    <iframe src=\"http://www.oreilly.com/authors/widgets/669.html\" height=\"500px\" width=\"200px\" scrolling=\"no\" frameborder=\"0\"></iframe>  </div>\n",
      "</div>\n",
      "  </div>\n",
      "        </div><!-- /#sidebar-first -->\n",
      "                \n",
      "                <div id=\"content\" class=\"eleven columns\">\n",
      "\t\t        \n",
      "                    \n",
      "                        \n",
      "            <div id=\"main\">\n",
      "            \n",
      "                                \n",
      "                                \n",
      "                                <h1 class=\"title\" id=\"page-title\">\n",
      "                  Page not found                </h1>\n",
      "                                \n",
      "                                \n",
      "                                <div class=\"tabs\">\n",
      "                                  </div>\n",
      "                                \n",
      "                                \n",
      "                                \n",
      "                  <div class=\"region region-content\">\n",
      "    <div id=\"block-system-main\" class=\"block block-system\">\n",
      "\n",
      "    \n",
      "  <div class=\"content\">\n",
      "    The requested page \"/pages/cookies/profile.php\" could not be found.  </div>\n",
      "</div>\n",
      "  </div>\n",
      "                                \n",
      "            </div>\n",
      "        \n",
      "        </div><!-- /#content -->\n",
      "        \n",
      "                \n",
      "        <div class=\"clear\"></div>\n",
      "        \n",
      "                \n",
      "\t</div>\n",
      "        \n",
      "\t<div id=\"footer\" >\n",
      "        <div class=\"container\">\n",
      "        \t<div class=\"sixteen columns clearfix\">\n",
      "        \n",
      "                <div class=\"one_third\">\n",
      "                                </div>\n",
      "                \n",
      "                <div class=\"one_third\">\n",
      "                                </div>\n",
      "                \n",
      "                <div class=\"one_third last\">\n",
      "                                </div>\n",
      "        \n",
      "                <div class=\"clear\"></div>\n",
      "                \n",
      "                                \n",
      "                <div class=\"clear\"></div>\n",
      "                \n",
      "                <div id=\"credits\">\n",
      "                2018                                 Web Scraping with Python<br/>\n",
      "                                &copy; Ryan Mitchell, All Rights Reserved. For questions about reproduction or use of any material on this site, please contact ryan.e.mitchell@gmail.com\n",
      "                </div>\n",
      "        \t</div>\n",
      "        </div>\n",
      "    </div>\n",
      "    \n",
      "</div> <!-- /#wrap -->  </body>\n",
      "</html>\n",
      "\n"
     ]
    }
   ],
   "source": [
    "session = requests.Session()\n",
    "payload = {'username': 'Zhouqiao', 'password': 'password'}\n",
    "r = session.post('http://pythonscraping.com/pages/cookies/welcome.php', data=payload)\n",
    "print(r.cookies.get_dict())\n",
    "# {'username': 'Morvan', 'loggedin': '1'}\n",
    "\n",
    "\n",
    "r = session.get(\"http://pythonscraping.com/pages/cookies/profile.php\")\n",
    "print(r.text)\n",
    "\n",
    "# Hey Morvan! Looks like you're still logged into the site!"
   ]
  },
  {
   "cell_type": "markdown",
   "metadata": {},
   "source": [
    "# 下载文件"
   ]
  },
  {
   "cell_type": "code",
   "execution_count": 24,
   "metadata": {},
   "outputs": [],
   "source": [
    "import os\n",
    "os.makedirs('./img/', exist_ok=True)\n",
    "\n",
    "IMAGE_URL = \"https://morvanzhou.github.io/static/img/description/learning_step_flowchart.png\""
   ]
  },
  {
   "cell_type": "markdown",
   "metadata": {},
   "source": [
    "### 使用 urlretrieve"
   ]
  },
  {
   "cell_type": "code",
   "execution_count": 25,
   "metadata": {},
   "outputs": [
    {
     "data": {
      "text/plain": [
       "('./img/image1.png', <http.client.HTTPMessage at 0x23725c84550>)"
      ]
     },
     "execution_count": 25,
     "metadata": {},
     "output_type": "execute_result"
    }
   ],
   "source": [
    "from urllib.request import urlretrieve\n",
    "urlretrieve(IMAGE_URL, './img/image1.png')"
   ]
  },
  {
   "cell_type": "markdown",
   "metadata": {},
   "source": [
    "### 使用 request"
   ]
  },
  {
   "cell_type": "code",
   "execution_count": 26,
   "metadata": {},
   "outputs": [],
   "source": [
    "import requests\n",
    "\n",
    "r = requests.get(IMAGE_URL)\n",
    "with open('./img/image2.png', 'wb') as f:\n",
    "    f.write(r.content)"
   ]
  },
  {
   "cell_type": "markdown",
   "metadata": {},
   "source": [
    "requests 能让你下一点, 保存一点, 而不是要全部下载完才能保存去另外的地方。\n",
    "这就是一个 chunk 一个 chunk 的下载。\n",
    "使用 r.iter_content(chunk_size) 来控制每个 chunk 的大小\n",
    "然后在文件中写入这个 chunk 大小的数据。"
   ]
  },
  {
   "cell_type": "code",
   "execution_count": 27,
   "metadata": {},
   "outputs": [],
   "source": [
    "r = requests.get(IMAGE_URL, stream=True)    # stream loading\n",
    "\n",
    "with open('./img/image3.png', 'wb') as f:\n",
    "    for chunk in r.iter_content(chunk_size=32):\n",
    "        f.write(chunk)"
   ]
  },
  {
   "cell_type": "markdown",
   "metadata": {},
   "source": [
    "# 练习\n",
    "##### http://www.ngchina.com.cn/animals/"
   ]
  },
  {
   "cell_type": "code",
   "execution_count": 28,
   "metadata": {},
   "outputs": [],
   "source": [
    "from bs4 import BeautifulSoup\n",
    "import requests\n",
    "\n",
    "URL = \"http://www.nationalgeographic.com.cn/animals/\""
   ]
  },
  {
   "cell_type": "code",
   "execution_count": 29,
   "metadata": {},
   "outputs": [],
   "source": [
    "html = requests.get(URL).text\n",
    "soup = BeautifulSoup(html, 'lxml')\n",
    "img_ul = soup.find_all('ul', {\"class\": \"img_list\"})"
   ]
  },
  {
   "cell_type": "code",
   "execution_count": 30,
   "metadata": {},
   "outputs": [
    {
     "name": "stdout",
     "output_type": "stream",
     "text": [
      "Saved 20180507010620319.jpg\n",
      "Saved 20180504020922105.jpg\n",
      "Saved 20180502021944712.jpg\n",
      "Saved 20180502105114813.jpg\n",
      "Saved 20180425055813117.jpg\n",
      "Saved 20180424103536193.jpg\n"
     ]
    }
   ],
   "source": [
    "for ul in img_ul:\n",
    "    imgs = ul.find_all('img')\n",
    "    for img in imgs:\n",
    "        url = img['src']\n",
    "        r = requests.get(url, stream=True)\n",
    "        image_name = url.split('/')[-1]\n",
    "        with open('./img/%s' % image_name, 'wb') as f:\n",
    "            for chunk in r.iter_content(chunk_size=128):\n",
    "                f.write(chunk)\n",
    "        print('Saved %s' % image_name)"
   ]
  },
  {
   "cell_type": "code",
   "execution_count": null,
   "metadata": {},
   "outputs": [],
   "source": []
  }
 ],
 "metadata": {
  "kernelspec": {
   "display_name": "Python 2",
   "language": "python",
   "name": "python2"
  },
  "language_info": {
   "codemirror_mode": {
    "name": "ipython",
    "version": 2
   },
   "file_extension": ".py",
   "mimetype": "text/x-python",
   "name": "python",
   "nbconvert_exporter": "python",
   "pygments_lexer": "ipython2",
   "version": "2.7.15"
  }
 },
 "nbformat": 4,
 "nbformat_minor": 2
}
