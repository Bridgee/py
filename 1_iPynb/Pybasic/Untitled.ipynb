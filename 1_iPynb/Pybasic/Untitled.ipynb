{
 "cells": [
  {
   "cell_type": "code",
   "execution_count": 1,
   "metadata": {},
   "outputs": [],
   "source": [
    "import random as rd\n",
    "import numpy as np\n",
    "import matplotlib.pyplot as plt"
   ]
  },
  {
   "cell_type": "code",
   "execution_count": 16,
   "metadata": {},
   "outputs": [],
   "source": [
    "lst = [1.1, 2.2, 3.3, 4.4, 5.5]\n",
    "ar = np.array(lst)"
   ]
  },
  {
   "cell_type": "code",
   "execution_count": 17,
   "metadata": {},
   "outputs": [
    {
     "name": "stdout",
     "output_type": "stream",
     "text": [
      "float64\n",
      "[1.1 2.2 3.3 4.4 5.5]\n",
      "[1 2 3 4 5]\n"
     ]
    }
   ],
   "source": [
    "print(ar.dtype)\n",
    "print(ar)\n",
    "ar = ar.astype(np.int32)\n",
    "print(ar)"
   ]
  },
  {
   "cell_type": "code",
   "execution_count": 30,
   "metadata": {},
   "outputs": [
    {
     "name": "stdout",
     "output_type": "stream",
     "text": [
      "[[1 1 1]\n",
      " [2 2 2]\n",
      " [3 3 3]]\n",
      "[[2 2 2]\n",
      " [3 3 3]\n",
      " [1 1 1]]\n",
      "对应位置相乘\n",
      " [[2 2 2]\n",
      " [6 6 6]\n",
      " [3 3 3]]\n",
      "矩阵相乘\n",
      " [[ 6  6  6]\n",
      " [12 12 12]\n",
      " [18 18 18]]\n",
      "[[0.5        0.5        0.5       ]\n",
      " [0.66666667 0.66666667 0.66666667]\n",
      " [3.         3.         3.        ]]\n",
      "[[0.5        0.5        0.5       ]\n",
      " [0.66666667 0.66666667 0.66666667]\n",
      " [3.         3.         3.        ]]\n"
     ]
    }
   ],
   "source": [
    "ar1 = np.array([[1,1,1],[2,2,2],[3,3,3]])\n",
    "print (ar1)\n",
    "ar2 = np.array([[2,2,2],[3,3,3],[1,1,1]])\n",
    "print(ar2)\n",
    "print('对应位置相乘\\n',ar1*ar2)\n",
    "print('矩阵相乘\\n',np.dot(ar1,ar2))\n",
    "print(ar1/ar2)\n",
    "print(np.divide(ar1,ar2))"
   ]
  },
  {
   "cell_type": "code",
   "execution_count": 1,
   "metadata": {},
   "outputs": [
    {
     "data": {
      "text/plain": [
       "['pickle_example.pickle', 'usrs_info.pickle']"
      ]
     },
     "execution_count": 1,
     "metadata": {},
     "output_type": "execute_result"
    }
   ],
   "source": [
    "import glob\n",
    "import pickle\n",
    "\n",
    "glob.glob('*.pickle')"
   ]
  },
  {
   "cell_type": "code",
   "execution_count": 5,
   "metadata": {},
   "outputs": [
    {
     "name": "stdout",
     "output_type": "stream",
     "text": [
      "{'admin': 'admin', 'bridge@python.com': '1535'}\n"
     ]
    }
   ],
   "source": [
    "with open('usrs_info.pickle', 'rb') as f:\n",
    "    x = pickle.load(f)\n",
    "print(x)"
   ]
  },
  {
   "cell_type": "code",
   "execution_count": null,
   "metadata": {},
   "outputs": [],
   "source": []
  }
 ],
 "metadata": {
  "kernelspec": {
   "display_name": "Python 3",
   "language": "python",
   "name": "python3"
  },
  "language_info": {
   "codemirror_mode": {
    "name": "ipython",
    "version": 3
   },
   "file_extension": ".py",
   "mimetype": "text/x-python",
   "name": "python",
   "nbconvert_exporter": "python",
   "pygments_lexer": "ipython3",
   "version": "3.6.5"
  }
 },
 "nbformat": 4,
 "nbformat_minor": 2
}
