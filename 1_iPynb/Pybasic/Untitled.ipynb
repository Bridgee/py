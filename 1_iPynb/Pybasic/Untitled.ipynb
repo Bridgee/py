{
 "cells": [
  {
   "cell_type": "code",
   "execution_count": 35,
   "metadata": {},
   "outputs": [],
   "source": [
    "import random as rd\n",
    "import numpy as np\n",
    "import matplotlib.pyplot as plt"
   ]
  },
  {
   "cell_type": "code",
   "execution_count": 38,
   "metadata": {},
   "outputs": [
    {
     "data": {
      "text/plain": [
       "[<matplotlib.lines.Line2D at 0x99de9b0>]"
      ]
     },
     "execution_count": 38,
     "metadata": {},
     "output_type": "execute_result"
    },
    {
     "data": {
      "image/png": "[encoded data removed]",
      "text/plain": [
       "<Figure size 432x288 with 1 Axes>"
      ]
     },
     "metadata": {},
     "output_type": "display_data"
    }
   ],
   "source": [
    "plt.plot([rd.random() for x in range(10)])"
   ]
  },
  {
   "cell_type": "code",
   "execution_count": 42,
   "metadata": {},
   "outputs": [
    {
     "data": {
      "text/plain": [
       "array([ 0. ,  2.5,  5. ,  7.5, 10. ])"
      ]
     },
     "execution_count": 42,
     "metadata": {},
     "output_type": "execute_result"
    }
   ],
   "source": [
    "np.linspace(0,10,5)"
   ]
  },
  {
   "cell_type": "code",
   "execution_count": 76,
   "metadata": {},
   "outputs": [
    {
     "name": "stdout",
     "output_type": "stream",
     "text": [
      "[[1, 2], 2, 3] [[1, 2], 2, 3] \n",
      "\n",
      "\n",
      "162783688 162783688 True\n",
      "162784712 162784712 True\n",
      "60714184 60714184 True \n",
      "\n",
      "\n",
      "[[1, 2], 2, 9] [[1, 2], 2, 9] \n",
      "\n",
      "\n",
      "[[9, 2], 2, 9] [[9, 2], 2, 9]\n"
     ]
    }
   ],
   "source": [
    "a = [[1,2],2,3]\n",
    "b = a\n",
    "\n",
    "print a,b, '\\n\\n'\n",
    "\n",
    "print id(a), id(b), id(a)==id(b)\n",
    "print id(a[0]), id(b[0]), id(a[0])==id(b[0])\n",
    "print id(a[0][0]), id(b[0][0]),id(a[0][0])==id(b[0][0]), '\\n\\n'\n",
    "\n",
    "a[2]=9\n",
    "print a,b, '\\n\\n'\n",
    "\n",
    "a[0][0] = 9\n",
    "print a,b"
   ]
  },
  {
   "cell_type": "code",
   "execution_count": 77,
   "metadata": {},
   "outputs": [
    {
     "name": "stdout",
     "output_type": "stream",
     "text": [
      "[[1, 2], 2, 3] [[1, 2], 2, 3] \n",
      "\n",
      "\n",
      "162939976 162786696 False\n",
      "162783624 162783624 True\n",
      "60714184 60714184 True \n",
      "\n",
      "\n",
      "[[1, 2], 2, 9] [[1, 2], 2, 3] \n",
      "\n",
      "\n",
      "[[9, 2], 2, 9] [[9, 2], 2, 3]\n"
     ]
    }
   ],
   "source": [
    "import copy\n",
    "\n",
    "a = [[1,2],2,3]\n",
    "b = copy.copy(a)\n",
    "\n",
    "print a,b, '\\n\\n'\n",
    "\n",
    "print id(a), id(b), id(a)==id(b)\n",
    "print id(a[0]), id(b[0]), id(a[0])==id(b[0])\n",
    "print id(a[0][0]), id(b[0][0]),id(a[0][0])==id(b[0][0]), '\\n\\n'\n",
    "\n",
    "a[2]=9\n",
    "print a,b, '\\n\\n'\n",
    "\n",
    "a[0][0] = 9\n",
    "print a,b"
   ]
  },
  {
   "cell_type": "code",
   "execution_count": 82,
   "metadata": {},
   "outputs": [
    {
     "name": "stdout",
     "output_type": "stream",
     "text": [
      "[[[1, 1], 2], 2, 3] [[[1, 1], 2], 2, 3] \n",
      "\n",
      "\n",
      "160180616 161501576 False\n",
      "162939464 162787272 False\n",
      "160166472 162939080 False\n",
      "60714184 60714184 True \n",
      "\n",
      "\n",
      "[[[1, 1], 2], 2, 9] [[[1, 1], 2], 2, 3] \n",
      "\n",
      "\n",
      "[[[1, 1], 9], 2, 9] [[[1, 1], 2], 2, 3] \n",
      "\n",
      "\n",
      "[[[888, 1], 9], 2, 9] [[[1, 1], 2], 2, 3]\n"
     ]
    }
   ],
   "source": [
    "import copy\n",
    "\n",
    "a = [[[1,1],2],2,3]\n",
    "b = copy.deepcopy(a)\n",
    "\n",
    "print a,b, '\\n\\n'\n",
    "\n",
    "print id(a), id(b), id(a)==id(b)\n",
    "print id(a[0]), id(b[0]), id(a[0])==id(b[0])\n",
    "print id(a[0][0]), id(b[0][0]),id(a[0][0])==id(b[0][0])\n",
    "print id(a[0][0][0]), id(b[0][0][0]),id(a[0][0][0])==id(b[0][0][0]), '\\n\\n'\n",
    "\n",
    "a[2]=9\n",
    "print a,b, '\\n\\n'\n",
    "\n",
    "a[0][1] = 9\n",
    "print a,b, '\\n\\n'\n",
    "\n",
    "a[0][0][0]= 888\n",
    "print a,b"
   ]
  },
  {
   "cell_type": "code",
   "execution_count": null,
   "metadata": {},
   "outputs": [],
   "source": []
  }
 ],
 "metadata": {
  "kernelspec": {
   "display_name": "Python 2",
   "language": "python",
   "name": "python2"
  },
  "language_info": {
   "codemirror_mode": {
    "name": "ipython",
    "version": 2
   },
   "file_extension": ".py",
   "mimetype": "text/x-python",
   "name": "python",
   "nbconvert_exporter": "python",
   "pygments_lexer": "ipython2",
   "version": "2.7.15"
  }
 },
 "nbformat": 4,
 "nbformat_minor": 2
}
