{
 "cells": [
  {
   "cell_type": "code",
   "execution_count": 1,
   "metadata": {},
   "outputs": [
    {
     "name": "stdout",
     "output_type": "stream",
     "text": [
      "5\n",
      "\n",
      "[<_MainThread(MainThread, started 20896)>, <Thread(Thread-4, started daemon 10828)>, <Heartbeat(Thread-5, started daemon 16708)>, <HistorySavingThread(IPythonHistorySavingThread, started 18488)>, <ParentPollerWindows(Thread-3, started daemon 14284)>]\n",
      "\n",
      "<_MainThread(MainThread, started 20896)>\n"
     ]
    }
   ],
   "source": [
    "import threading\n",
    "\n",
    "print(threading.active_count(), end='\\n\\n')  # Num of current actived threading\n",
    "print(threading.enumerate(), end='\\n\\n')  # Watch current actived threading\n",
    "print(threading.current_thread())  # Watch current running threading"
   ]
  },
  {
   "cell_type": "code",
   "execution_count": 2,
   "metadata": {},
   "outputs": [
    {
     "name": "stdout",
     "output_type": "stream",
     "text": [
      "This is my new thread job, <Thread(Thread-6, started 732)>\n",
      "Number of thread now is 6\n",
      "\n"
     ]
    }
   ],
   "source": [
    "def new_thread_job():  # Define the task the new thread\n",
    "    print('This is my new thread job, %s'% threading.current_thread())\n",
    "    print('Number of thread now is %d'% threading.active_count(), end='\\n\\n')\n",
    "\n",
    "new_thread = threading.Thread(target = new_thread_job)  #Claim new thread\n",
    "new_thread.start()  # Start new thread"
   ]
  },
  {
   "cell_type": "code",
   "execution_count": 3,
   "metadata": {},
   "outputs": [
    {
     "name": "stdout",
     "output_type": "stream",
     "text": [
      "T1 Start\n",
      "T2 Start\n",
      "T2 End\n",
      "T1 End\n",
      "Finished\n"
     ]
    }
   ],
   "source": [
    "import threading\n",
    "import time\n",
    "\n",
    "def t1_job():\n",
    "    print('T1 Start')\n",
    "    for i in range(10):\n",
    "        time.sleep(0.1)\n",
    "    print('T1 End')\n",
    "\n",
    "def t2_job():\n",
    "    print('T2 Start')\n",
    "    for i in range(5):\n",
    "        time.sleep(0.1)\n",
    "    print('T2 End')\n",
    "\n",
    "t1 = threading.Thread(target=t1_job, name='thread_1')\n",
    "t1.start()\n",
    "\n",
    "t2 = threading.Thread(target=t2_job, name='thread_2')\n",
    "t2.start()\n",
    "\n",
    "t1.join()\n",
    "t2.join()\n",
    "print('Finished')"
   ]
  },
  {
   "cell_type": "code",
   "execution_count": 4,
   "metadata": {},
   "outputs": [
    {
     "name": "stdout",
     "output_type": "stream",
     "text": [
      "[[1, 4, 9, 16, 25, 36, 49, 64, 81, 64, 49, 36, 25, 16, 9, 4, 1], [16, 25, 36], [49, 64, 81], [100, 121, 144]]\n",
      "Finished in 0.004135\n"
     ]
    }
   ],
   "source": [
    "import threading\n",
    "import time\n",
    "from queue import Queue\n",
    "###########################################################\n",
    "\n",
    "def t_job(lst, q):\n",
    "    for i in range(len(lst)):\n",
    "        lst[i] = lst[i] ** 2  # Square\n",
    "    q.put(lst)\n",
    "\n",
    "def multi_threading(data):\n",
    "    q = Queue()\n",
    "    ths = []\n",
    "    result = []\n",
    "    \n",
    "    for i in range(4):\n",
    "        t = threading.Thread(target=t_job, args=(data[i], q))\n",
    "        t.start()\n",
    "        ths.append(t)\n",
    "    for i in ths:\n",
    "        i.join()\n",
    "    for i in range(4):\n",
    "        result.append(q.get())\n",
    "    print(result)\n",
    "############################################################\n",
    "data = [[1,2,3,4,5,6,7,8,9,8,7,6,5,4,3,2,1],[4,5,6],[7,8,9],[10,11,12]]\n",
    "start = time.time()\n",
    "multi_threading(data)\n",
    "run_time = time.time() - start\n",
    "print('Finished in %f' % run_time)"
   ]
  },
  {
   "cell_type": "code",
   "execution_count": 5,
   "metadata": {},
   "outputs": [
    {
     "name": "stdout",
     "output_type": "stream",
     "text": [
      "[[1, 4, 9, 16, 25, 36, 49, 64, 81, 64, 49, 36, 25, 16, 9, 4, 1], [16, 25, 36], [49, 64, 81], [100, 121, 144]]\n",
      "Finished in 0.000999\n"
     ]
    }
   ],
   "source": [
    "data = [[1,2,3,4,5,6,7,8,9,8,7,6,5,4,3,2,1],[4,5,6],[7,8,9],[10,11,12]]\n",
    "\n",
    "start = time.time()\n",
    "for i in range(len(data)):\n",
    "    for j in range(len(data[i])):\n",
    "        data[i][j] = data[i][j] ** 2\n",
    "\n",
    "print(data)\n",
    "run_time = time.time() - start\n",
    "print('Finished in %f' % run_time)"
   ]
  },
  {
   "cell_type": "code",
   "execution_count": 6,
   "metadata": {},
   "outputs": [
    {
     "name": "stdout",
     "output_type": "stream",
     "text": [
      "1999998000000\n",
      "normal:  0.3310384750366211\n",
      "1999998000000\n",
      "multithreading:  0.33117055892944336\n"
     ]
    }
   ],
   "source": [
    "import threading\n",
    "from queue import Queue\n",
    "import copy\n",
    "import time\n",
    "\n",
    "def job(l, q):\n",
    "    res = sum(l)\n",
    "    q.put(res)\n",
    "\n",
    "def multithreading(l):\n",
    "    q = Queue()\n",
    "    threads = []\n",
    "    for i in range(4):\n",
    "        t = threading.Thread(target=job, args=(copy.copy(l), q), name='T%i' % i)\n",
    "        t.start()\n",
    "        threads.append(t)\n",
    "    [t.join() for t in threads]\n",
    "    total = 0\n",
    "    for _ in range(4):\n",
    "        total += q.get()\n",
    "    print(total)\n",
    "\n",
    "def normal(l):\n",
    "    total = sum(l)\n",
    "    print(total)\n",
    "\n",
    "if __name__ == '__main__':\n",
    "    l = list(range(1000000))\n",
    "    s_t = time.time()\n",
    "    normal(l*4)\n",
    "    print('normal: ',time.time()-s_t)\n",
    "    s_t = time.time()\n",
    "    multithreading(l)\n",
    "    print('multithreading: ', time.time()-s_t)"
   ]
  },
  {
   "cell_type": "code",
   "execution_count": 75,
   "metadata": {},
   "outputs": [
    {
     "name": "stdout",
     "output_type": "stream",
     "text": [
      "job1 1\n",
      "job1 2\n",
      "job1 3\n",
      "job1 4\n",
      "job1 5\n",
      "job2 15\n",
      "job2 25\n",
      "job2 35\n",
      "job2 45\n",
      "job2 55\n"
     ]
    }
   ],
   "source": [
    "import threading\n",
    "\n",
    "def job1():\n",
    "    global A, lock\n",
    "    lock.acquire()\n",
    "    for i in range(5):\n",
    "        A += 1\n",
    "        print('job1', A)\n",
    "    lock.release()\n",
    "\n",
    "def job2():\n",
    "    global A, lock\n",
    "    lock.acquire()\n",
    "    for i in range(5):\n",
    "        A += 10\n",
    "        print('job2', A)\n",
    "    lock.release()\n",
    "\n",
    "if __name__ == '__main__':\n",
    "    lock = threading.Lock()\n",
    "    A = 0\n",
    "    t1 = threading.Thread(target=job1)\n",
    "    t2 = threading.Thread(target=job2)\n",
    "    t1.start()\n",
    "    t2.start()\n",
    "    t1.join()\n",
    "    t2.join()"
   ]
  }
 ],
 "metadata": {
  "kernelspec": {
   "display_name": "Python 3",
   "language": "python",
   "name": "python3"
  },
  "language_info": {
   "codemirror_mode": {
    "name": "ipython",
    "version": 3
   },
   "file_extension": ".py",
   "mimetype": "text/x-python",
   "name": "python",
   "nbconvert_exporter": "python",
   "pygments_lexer": "ipython3",
   "version": "3.6.5"
  }
 },
 "nbformat": 4,
 "nbformat_minor": 2
}
