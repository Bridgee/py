{
 "cells": [
  {
   "cell_type": "code",
   "execution_count": 1,
   "metadata": {},
   "outputs": [],
   "source": [
    "import pickle\n",
    "\n",
    "a_dict = {'da': 111, 2: [23,1,4], '23': {1:2,'d':'sad'}}\n",
    "\n",
    "# Pickle a variable to a file\n",
    "file = open('pickle_example.pickle', 'wb')\n",
    "pickle.dump(a_dict, file)\n",
    "file.close()"
   ]
  },
  {
   "cell_type": "code",
   "execution_count": 2,
   "metadata": {},
   "outputs": [
    {
     "name": "stdout",
     "output_type": "stream",
     "text": [
      "{'da': 111, 2: [23, 1, 4], '23': {1: 2, 'd': 'sad'}}\n"
     ]
    }
   ],
   "source": [
    "# Reload a file to a variable\n",
    "with open('pickle_example.pickle', 'rb') as file:\n",
    "    a_dict1 =pickle.load(file)\n",
    "\n",
    "print(a_dict1)"
   ]
  }
 ],
 "metadata": {
  "kernelspec": {
   "display_name": "Python 3",
   "language": "python",
   "name": "python3"
  },
  "language_info": {
   "codemirror_mode": {
    "name": "ipython",
    "version": 3
   },
   "file_extension": ".py",
   "mimetype": "text/x-python",
   "name": "python",
   "nbconvert_exporter": "python",
   "pygments_lexer": "ipython3",
   "version": "3.6.5"
  }
 },
 "nbformat": 4,
 "nbformat_minor": 2
}
