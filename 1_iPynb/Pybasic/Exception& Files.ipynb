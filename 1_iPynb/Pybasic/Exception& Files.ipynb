{
 "cells": [
  {
   "cell_type": "markdown",
   "metadata": {},
   "source": [
    "# 异常处理"
   ]
  },
  {
   "cell_type": "code",
   "execution_count": 1,
   "metadata": {},
   "outputs": [
    {
     "name": "stdout",
     "output_type": "stream",
     "text": [
      "This not gonna work\n"
     ]
    }
   ],
   "source": [
    "try:\n",
    "    1/0\n",
    "except ZeroDivisionError:\n",
    "    print('This not gonna work')"
   ]
  },
  {
   "cell_type": "code",
   "execution_count": 2,
   "metadata": {},
   "outputs": [
    {
     "name": "stdout",
     "output_type": "stream",
     "text": [
      "this is a division program.\n",
      "input 'c' continue, otherwise logout:\n"
     ]
    }
   ],
   "source": [
    "while 1:\n",
    "    print(\"this is a division program.\")\n",
    "    c = input(\"input 'c' continue, otherwise logout:\")\n",
    "    if c == 'c':\n",
    "        a = input(\"first number:\")\n",
    "        b = input(\"second number:\")\n",
    "        try:\n",
    "            print(float(a)/float(b))\n",
    "            print(\"*************************\")\n",
    "        except ZeroDivisionError:\n",
    "            print(\"The second number can't be zero!\")\n",
    "            print(\"*************************\")\n",
    "    else:\n",
    "        break"
   ]
  },
  {
   "cell_type": "markdown",
   "metadata": {},
   "source": [
    "# 文件读取"
   ]
  },
  {
   "cell_type": "code",
   "execution_count": 6,
   "metadata": {},
   "outputs": [
    {
     "name": "stdout",
     "output_type": "stream",
     "text": [
      "<_io.TextIOWrapper name='my_try_file.txt' mode='r' encoding='cp936'>\n",
      "write from python\n",
      "write from python, round 2"
     ]
    }
   ],
   "source": [
    "# for循环迭代\n",
    "\n",
    "f = open('my_try_file.txt')\n",
    "print(f)\n",
    "for line in f:\n",
    "    print(line, end='')\n",
    "f.close()"
   ]
  },
  {
   "cell_type": "code",
   "execution_count": 9,
   "metadata": {},
   "outputs": [
    {
     "name": "stdout",
     "output_type": "stream",
     "text": [
      "write from python\n",
      "write from python, round 2"
     ]
    }
   ],
   "source": [
    "# readline() == 迭代器iter\n",
    "\n",
    "f = open('my_try_file.txt')\n",
    "print(f.readline(), end = '')\n",
    "print(f.readline(), end = '')\n",
    "print(f.readline(), end = '')\n",
    "print(f.readline(), end = '')\n",
    "f.close()"
   ]
  },
  {
   "cell_type": "code",
   "execution_count": 10,
   "metadata": {},
   "outputs": [
    {
     "name": "stdout",
     "output_type": "stream",
     "text": [
      "['write from python\\n', 'write from python, round 2']\n"
     ]
    }
   ],
   "source": [
    "# readlines()\n",
    "\n",
    "f = open('my_try_file.txt')\n",
    "print(f.readlines())\n",
    "f.close()"
   ]
  },
  {
   "cell_type": "code",
   "execution_count": 11,
   "metadata": {},
   "outputs": [
    {
     "name": "stdout",
     "output_type": "stream",
     "text": [
      "write from python\n",
      "write from python, round 2\n"
     ]
    }
   ],
   "source": [
    "# read()\n",
    "\n",
    "f = open('my_try_file.txt')\n",
    "print(f.read())\n",
    "f.close()"
   ]
  },
  {
   "cell_type": "markdown",
   "metadata": {},
   "source": [
    "# 文件写入"
   ]
  },
  {
   "cell_type": "code",
   "execution_count": 15,
   "metadata": {},
   "outputs": [
    {
     "name": "stdout",
     "output_type": "stream",
     "text": [
      "write from python\n"
     ]
    }
   ],
   "source": [
    "# write() 'w'\n",
    "\n",
    "f = open('my_try_file.txt', 'w')\n",
    "f.write('write from python')\n",
    "f.close()\n",
    "\n",
    "f = open('my_try_file.txt')\n",
    "print(f.read())\n",
    "f.close()"
   ]
  },
  {
   "cell_type": "code",
   "execution_count": 18,
   "metadata": {},
   "outputs": [
    {
     "name": "stdout",
     "output_type": "stream",
     "text": [
      "write from python\n",
      "write from python, round 2\n",
      "write from python, round 2\n",
      "write from python, round 2\n"
     ]
    }
   ],
   "source": [
    "# write() 'a'\n",
    "\n",
    "with open('my_try_file.txt', 'a') as f:\n",
    "    f.write('\\nwrite from python, round 2')\n",
    "\n",
    "    \n",
    "with open('my_try_file.txt') as f:\n",
    "    open('my_try_file.txt')\n",
    "    print(f.read())"
   ]
  },
  {
   "cell_type": "code",
   "execution_count": 19,
   "metadata": {},
   "outputs": [
    {
     "data": {
      "text/plain": [
       "False"
      ]
     },
     "execution_count": 19,
     "metadata": {},
     "output_type": "execute_result"
    }
   ],
   "source": [
    "line = ' '\n",
    "not line"
   ]
  },
  {
   "cell_type": "code",
   "execution_count": 25,
   "metadata": {},
   "outputs": [
    {
     "data": {
      "text/plain": [
       "['Exception& Files.ipynb',\n",
       " 'IPython_Widgets_Interact.ipynb',\n",
       " 'Multi-Processing.ipynb',\n",
       " 'Multi-Threading.ipynb',\n",
       " 'Pickle.ipynb',\n",
       " 'Questions.ipynb',\n",
       " 'RegEx.ipynb',\n",
       " 'Tkinter.ipynb',\n",
       " 'Untitled.ipynb']"
      ]
     },
     "execution_count": 25,
     "metadata": {},
     "output_type": "execute_result"
    }
   ],
   "source": [
    "import glob\n",
    "glob.glob('*.ipynb')"
   ]
  }
 ],
 "metadata": {
  "kernelspec": {
   "display_name": "Python 3",
   "language": "python",
   "name": "python3"
  },
  "language_info": {
   "codemirror_mode": {
    "name": "ipython",
    "version": 3
   },
   "file_extension": ".py",
   "mimetype": "text/x-python",
   "name": "python",
   "nbconvert_exporter": "python",
   "pygments_lexer": "ipython3",
   "version": "3.6.5"
  }
 },
 "nbformat": 4,
 "nbformat_minor": 2
}
