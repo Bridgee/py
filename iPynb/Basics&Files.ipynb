{
 "cells": [
  {
   "cell_type": "markdown",
   "metadata": {},
   "source": [
    "# Question 1\n",
    "[0 1 2 3 4 5 6 7 8 9]\n",
    "->\n",
    "[1 2 3 4 5 6 7 8 9 0]"
   ]
  },
  {
   "cell_type": "code",
   "execution_count": 2,
   "metadata": {},
   "outputs": [
    {
     "name": "stdout",
     "output_type": "stream",
     "text": [
      "[0, 1, 2, 3, 4, 5, 6, 7, 8, 9]\n",
      "[1, 2, 3, 4, 5, 6, 7, 8, 9, 0]\n"
     ]
    }
   ],
   "source": [
    "l1 = [0, 1, 2, 3, 4, 5, 6, 7, 8, 9]\n",
    "print(l1)\n",
    "\n",
    "tmp = l1.pop(0)\n",
    "l1.append(tmp)\n",
    "print(l1)"
   ]
  },
  {
   "cell_type": "markdown",
   "metadata": {},
   "source": [
    "# Question 2\n",
    "40 random num (0~100)\n",
    "Calculate num under averyge"
   ]
  },
  {
   "cell_type": "code",
   "execution_count": 45,
   "metadata": {},
   "outputs": [
    {
     "name": "stdout",
     "output_type": "stream",
     "text": [
      "50.925\n",
      "21\n"
     ]
    }
   ],
   "source": [
    "import random\n",
    "l2 = [random.randint(0, 100) for a in range(40)]\n",
    "\n",
    "aver = sum(l2)/len(l2)\n",
    "print(aver)\n",
    "count = 0\n",
    "for i in range(len(l2)):\n",
    "    if l2[i] < aver:\n",
    "        count += 1\n",
    "print(count)"
   ]
  },
  {
   "cell_type": "code",
   "execution_count": 46,
   "metadata": {},
   "outputs": [
    {
     "data": {
      "text/plain": [
       "50.925"
      ]
     },
     "execution_count": 46,
     "metadata": {},
     "output_type": "execute_result"
    }
   ],
   "source": [
    "aver"
   ]
  },
  {
   "cell_type": "markdown",
   "metadata": {},
   "source": [
    "# Question 3\n",
    "pick extra space from string"
   ]
  },
  {
   "cell_type": "code",
   "execution_count": 78,
   "metadata": {},
   "outputs": [
    {
     "name": "stdout",
     "output_type": "stream",
     "text": [
      "I am a phd student next month\n"
     ]
    }
   ],
   "source": [
    "testStr = 'I am  a phd student  next month'\n",
    "\n",
    "def spacekiller(st):\n",
    "    flg = 0\n",
    "    indx = list()\n",
    "    for i in range(len(st)):\n",
    "        if st[i] == ' ':\n",
    "            if flg == 1:\n",
    "                indx.append(i)\n",
    "            flg = 1\n",
    "        else:\n",
    "            flg = 0\n",
    "    tmp = list(st)\n",
    "    for i in range(len(indx)-1, -1, -1):    \n",
    "        tmp.pop(indx[i])\n",
    "    tmp = ''.join(tmp)\n",
    "    return tmp\n",
    "        \n",
    "a = spacekiller(testStr)\n",
    "print(a)"
   ]
  },
  {
   "cell_type": "markdown",
   "metadata": {},
   "source": [
    "# Question 4\n",
    "Calculate fib(100)"
   ]
  },
  {
   "cell_type": "code",
   "execution_count": null,
   "metadata": {},
   "outputs": [],
   "source": [
    "def fib(n):\n",
    "    n0 = 0\n",
    "    n1 = 1\n",
    "    if n == 0:\n",
    "        return n0\n",
    "    for i in range(n):\n",
    "        n0, n1 = n1, n0 + n1\n",
    "    return n1        "
   ]
  },
  {
   "cell_type": "code",
   "execution_count": 70,
   "metadata": {},
   "outputs": [
    {
     "name": "stdout",
     "output_type": "stream",
     "text": [
      "0 1 1 2 3 5 8 13 21 34 "
     ]
    }
   ],
   "source": [
    "for i in range(10):\n",
    "    print(fib(i), end = ' ')"
   ]
  },
  {
   "cell_type": "markdown",
   "metadata": {},
   "source": [
    "# 异常处理"
   ]
  },
  {
   "cell_type": "code",
   "execution_count": 74,
   "metadata": {},
   "outputs": [
    {
     "name": "stdout",
     "output_type": "stream",
     "text": [
      "This not gonna work\n"
     ]
    }
   ],
   "source": [
    "try:\n",
    "    1/0\n",
    "except ZeroDivisionError:\n",
    "    print('This not gonna work')"
   ]
  },
  {
   "cell_type": "code",
   "execution_count": 83,
   "metadata": {},
   "outputs": [
    {
     "name": "stdout",
     "output_type": "stream",
     "text": [
      "this is a division program.\n",
      "input 'c' continue, otherwise logout:c\n",
      "first number:29\n",
      "second number:0\n",
      "The second number can't be zero!\n",
      "*************************\n",
      "this is a division program.\n",
      "input 'c' continue, otherwise logout:\n"
     ]
    }
   ],
   "source": [
    "while 1:\n",
    "    print(\"this is a division program.\")\n",
    "    c = input(\"input 'c' continue, otherwise logout:\")\n",
    "    if c == 'c':\n",
    "        a = input(\"first number:\")\n",
    "        b = input(\"second number:\")\n",
    "        try:\n",
    "            print(float(a)/float(b))\n",
    "            print(\"*************************\")\n",
    "        except ZeroDivisionError:\n",
    "            print(\"The second number can't be zero!\")\n",
    "            print(\"*************************\")\n",
    "    else:\n",
    "        break"
   ]
  },
  {
   "cell_type": "markdown",
   "metadata": {},
   "source": [
    "# 文件读取"
   ]
  },
  {
   "cell_type": "code",
   "execution_count": 14,
   "metadata": {},
   "outputs": [
    {
     "name": "stdout",
     "output_type": "stream",
     "text": [
      "learn python\n",
      "http://2bridgee.com\n",
      "bridgeaffiliation@gmail.com\n"
     ]
    }
   ],
   "source": [
    "f = open('my_try_file.txt')\n",
    "for line in f:\n",
    "    print(line, end='')"
   ]
  },
  {
   "cell_type": "code",
   "execution_count": 20,
   "metadata": {},
   "outputs": [
    {
     "name": "stdout",
     "output_type": "stream",
     "text": [
      "learn python\n",
      "http://2bridgee.com\n",
      "bridgeaffiliation@gmail.com\n"
     ]
    }
   ],
   "source": [
    "f = open('my_try_file.txt')\n",
    "print(f.readline(), end = '')\n",
    "print(f.readline(), end = '')\n",
    "print(f.readline(), end = '')\n",
    "print(f.readline(), end = '')"
   ]
  },
  {
   "cell_type": "code",
   "execution_count": 15,
   "metadata": {},
   "outputs": [
    {
     "name": "stdout",
     "output_type": "stream",
     "text": [
      "['learn python\\n', 'http://2bridgee.com\\n', 'bridgeaffiliation@gmail.com\\n']\n"
     ]
    }
   ],
   "source": [
    "f = open('my_try_file.txt')\n",
    "print(f.readlines())"
   ]
  },
  {
   "cell_type": "code",
   "execution_count": 26,
   "metadata": {},
   "outputs": [
    {
     "name": "stdout",
     "output_type": "stream",
     "text": [
      "learn python\n",
      "http://2bridgee.com\n",
      "bridgeaffiliation@gmail.com\n",
      "\n"
     ]
    }
   ],
   "source": [
    "f = open('my_try_file.txt')\n",
    "print(f.read())"
   ]
  },
  {
   "cell_type": "markdown",
   "metadata": {},
   "source": [
    "# 文件写入"
   ]
  },
  {
   "cell_type": "code",
   "execution_count": 42,
   "metadata": {},
   "outputs": [
    {
     "name": "stdout",
     "output_type": "stream",
     "text": [
      "write from python\n"
     ]
    }
   ],
   "source": [
    "f = open('my_try_file.txt', 'w')\n",
    "f.write('write from python')\n",
    "f = open('my_try_file.txt')\n",
    "print(f.read())"
   ]
  },
  {
   "cell_type": "code",
   "execution_count": 43,
   "metadata": {},
   "outputs": [
    {
     "name": "stdout",
     "output_type": "stream",
     "text": [
      "write from python\n",
      "write from python, round 2\n"
     ]
    }
   ],
   "source": [
    "f = open('my_try_file.txt', 'a')\n",
    "f.write('\\nwrite from python, round 2')\n",
    "f = open('my_try_file.txt')\n",
    "print(f.read())\n",
    "f.close()"
   ]
  },
  {
   "cell_type": "code",
   "execution_count": 48,
   "metadata": {},
   "outputs": [
    {
     "data": {
      "text/plain": [
       "False"
      ]
     },
     "execution_count": 48,
     "metadata": {},
     "output_type": "execute_result"
    }
   ],
   "source": [
    "line = ' '\n",
    "not line"
   ]
  },
  {
   "cell_type": "code",
   "execution_count": 59,
   "metadata": {},
   "outputs": [
    {
     "data": {
      "text/plain": [
       "['house price prediction.ipynb',\n",
       " 'image retrieval.ipynb',\n",
       " 'IPython_widgets_interact.ipynb',\n",
       " 'Learning_Note_1.ipynb',\n",
       " 'Learning_Note_2.ipynb',\n",
       " 'Learning_Note_3.ipynb',\n",
       " 'Learning_Perceptron_Algorithm.ipynb',\n",
       " 'music recommender system.ipynb',\n",
       " 'sentiment classifier.ipynb',\n",
       " 'temp.ipynb',\n",
       " 'Try_array.ipynb',\n",
       " 'Try_GLab.ipynb',\n",
       " 'wikipedia article analysis.ipynb']"
      ]
     },
     "execution_count": 59,
     "metadata": {},
     "output_type": "execute_result"
    }
   ],
   "source": [
    "import glob\n",
    "glob.glob('*.ipynb')"
   ]
  },
  {
   "cell_type": "code",
   "execution_count": null,
   "metadata": {},
   "outputs": [],
   "source": []
  }
 ],
 "metadata": {
  "kernelspec": {
   "display_name": "Python 3",
   "language": "python",
   "name": "python3"
  },
  "language_info": {
   "codemirror_mode": {
    "name": "ipython",
    "version": 3
   },
   "file_extension": ".py",
   "mimetype": "text/x-python",
   "name": "python",
   "nbconvert_exporter": "python",
   "pygments_lexer": "ipython3",
   "version": "3.6.5"
  }
 },
 "nbformat": 4,
 "nbformat_minor": 2
}
